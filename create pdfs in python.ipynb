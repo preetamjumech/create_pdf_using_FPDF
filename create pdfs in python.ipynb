{
 "cells": [
  {
   "cell_type": "code",
   "execution_count": 1,
   "id": "eacb5144",
   "metadata": {},
   "outputs": [],
   "source": [
    "from fpdf import FPDF"
   ]
  },
  {
   "cell_type": "code",
   "execution_count": 2,
   "id": "0d70949d",
   "metadata": {},
   "outputs": [],
   "source": [
    "class FPDF(FPDF):\n",
    "    \n",
    "    def header(self):\n",
    "        self.set_font(\"Arial\",\"U\",11)\n",
    "        self.image(\"sun.png\", h = 10)\n",
    "        self.set_xy(30,15)\n",
    "        self.cell(100,5,\"This is a Header\", align = \"C\", border = 1)\n",
    "        self.set_xy(10,30)\n",
    "    \n",
    "    def footer(self):\n",
    "        self.set_y(-15)\n",
    "        pageNum = self.page_no()\n",
    "        \n",
    "        if pageNum>1:\n",
    "            self.cell(0,10,str(pageNum-1), align = \"R\")"
   ]
  },
  {
   "cell_type": "code",
   "execution_count": 3,
   "id": "a64cd4b9",
   "metadata": {},
   "outputs": [],
   "source": [
    "# pdf = FPDF(\"P\",\"mm\",format = (50,200)) # in format, always shorter side comes first"
   ]
  },
  {
   "cell_type": "code",
   "execution_count": 4,
   "id": "4e610ac4",
   "metadata": {},
   "outputs": [],
   "source": [
    "pdf = FPDF(\"P\", \"mm\", \"A4\")"
   ]
  },
  {
   "cell_type": "code",
   "execution_count": 5,
   "id": "8ccdfa62",
   "metadata": {},
   "outputs": [],
   "source": [
    "w = 210\n",
    "h = 297"
   ]
  },
  {
   "cell_type": "code",
   "execution_count": 6,
   "id": "34b9a88e",
   "metadata": {},
   "outputs": [],
   "source": [
    "pdf.set_text_color(255,0,0)"
   ]
  },
  {
   "cell_type": "code",
   "execution_count": 7,
   "id": "a6b55497",
   "metadata": {},
   "outputs": [],
   "source": [
    "pdf.set_draw_color(0,0,255)"
   ]
  },
  {
   "cell_type": "code",
   "execution_count": 8,
   "id": "b9de7c0b",
   "metadata": {},
   "outputs": [],
   "source": [
    "pdf.set_fill_color(0,255,0)"
   ]
  },
  {
   "cell_type": "code",
   "execution_count": 9,
   "id": "9387f5f9",
   "metadata": {},
   "outputs": [],
   "source": [
    "pdf.set_font(\"Arial\",\"B\",16)"
   ]
  },
  {
   "cell_type": "code",
   "execution_count": 10,
   "id": "6575fdf3",
   "metadata": {},
   "outputs": [],
   "source": [
    "# pdf.set_margins(0,0,0)"
   ]
  },
  {
   "cell_type": "code",
   "execution_count": 11,
   "id": "3c00a562",
   "metadata": {},
   "outputs": [],
   "source": [
    "pdf.add_page()"
   ]
  },
  {
   "cell_type": "code",
   "execution_count": 12,
   "id": "3c6df99a",
   "metadata": {},
   "outputs": [],
   "source": [
    "# pdf.cell(0,7,\"Cell 1\", border = 1, align = \"c\", fill = True)"
   ]
  },
  {
   "cell_type": "code",
   "execution_count": 13,
   "id": "dcabb51e",
   "metadata": {},
   "outputs": [],
   "source": [
    "pdf.cell(60,7,\"Page 1\", 1, fill = True)"
   ]
  },
  {
   "cell_type": "code",
   "execution_count": 14,
   "id": "4d6401a6",
   "metadata": {},
   "outputs": [],
   "source": [
    "pdf.cell(0,7,\"Cell 1\", border = 1, align = \"C\", link = \"www.google.de\")"
   ]
  },
  {
   "cell_type": "code",
   "execution_count": 15,
   "id": "433d934d",
   "metadata": {},
   "outputs": [],
   "source": [
    "# pdf.cell(60,7,\"Cell 2\", border = 1, ln =2)"
   ]
  },
  {
   "cell_type": "code",
   "execution_count": 16,
   "id": "4944d98c",
   "metadata": {},
   "outputs": [],
   "source": [
    "# pdf.cell(60,7,\"Cell 3\", border = 1)"
   ]
  },
  {
   "cell_type": "code",
   "execution_count": 17,
   "id": "c75f5bbc",
   "metadata": {},
   "outputs": [],
   "source": [
    "pdf.set_xy(10,h/2)"
   ]
  },
  {
   "cell_type": "code",
   "execution_count": 18,
   "id": "9e952fcd",
   "metadata": {},
   "outputs": [],
   "source": [
    "# pdf.cell(60,5, \"Center Cell\")"
   ]
  },
  {
   "cell_type": "code",
   "execution_count": 19,
   "id": "d99554a5",
   "metadata": {},
   "outputs": [],
   "source": [
    "f = open('text.txt',\"r\")\n",
    "line = f.readlines()\n",
    "text = (\"\").join(line)"
   ]
  },
  {
   "cell_type": "code",
   "execution_count": 20,
   "id": "ac93aebf",
   "metadata": {},
   "outputs": [
    {
     "data": {
      "text/plain": [
       "'A wiki enables communities of editors and contributors to write documents collaboratively. All that people require to contribute is a computer, Internet access, a web browser, and a basic understanding of a simple markup language (e.g. MediaWiki markup language). A single page in a wiki website is referred to as a \"wiki page\", while the entire collection of pages, which are usually well-interconnected by hyperlinks, is \"the wiki\". A wiki is essentially a database for creating, browsing, and searching through information. A wiki allows non-linear, evolving, complex, and networked text, while also allowing for editor argument, debate, and interaction regarding the content and formatting.[10] A defining characteristic of wiki technology is the ease with which pages can be created and updated. Generally, there is no review by a moderator or gatekeeper before modifications are accepted and thus lead to changes on the website. Many wikis are open to alteration by the general public without requiring registration of user accounts. Many edits can be made in real-time and appear almost instantly online, but this feature facilitates abuse of the system. Private wiki servers require user authentication to edit pages, and sometimes even to read them. Maged N. Kamel Boulos, Cito Maramba, and Steve Wheeler write that the open wikis produce a process of Social Darwinism. \"... because of the openness and rapidity that wiki pages can be edited, the pages undergo an evolutionary selection process, not unlike that which nature subjects to living organisms. \\'Unfit\\' sentences and sections are ruthlessly culled, edited and replaced if they are not considered \\'fit\\', which hopefully results in the evolution of a higher quality and more relevant page.'"
      ]
     },
     "execution_count": 20,
     "metadata": {},
     "output_type": "execute_result"
    }
   ],
   "source": [
    "text"
   ]
  },
  {
   "cell_type": "code",
   "execution_count": 21,
   "id": "586f7a64",
   "metadata": {},
   "outputs": [
    {
     "data": {
      "text/plain": [
       "[]"
      ]
     },
     "execution_count": 21,
     "metadata": {},
     "output_type": "execute_result"
    }
   ],
   "source": [
    "pdf.multi_cell(150,7,txt = text, border = 1)"
   ]
  },
  {
   "cell_type": "code",
   "execution_count": 22,
   "id": "34f038d0",
   "metadata": {},
   "outputs": [],
   "source": [
    "pdf.add_page()"
   ]
  },
  {
   "cell_type": "code",
   "execution_count": 23,
   "id": "11d02747",
   "metadata": {},
   "outputs": [],
   "source": [
    "pdf.cell(60,7,\"Page 2\", 2, fill = True)"
   ]
  },
  {
   "cell_type": "code",
   "execution_count": 24,
   "id": "8165a41c",
   "metadata": {},
   "outputs": [],
   "source": [
    "pdf.ellipse(50,100,60,60, style = \"FD\") # DF = draw and fill"
   ]
  },
  {
   "cell_type": "code",
   "execution_count": 25,
   "id": "31f550ba",
   "metadata": {},
   "outputs": [],
   "source": [
    "pdf.rect(110,100,50,50, style = \"FD\")"
   ]
  },
  {
   "cell_type": "code",
   "execution_count": 26,
   "id": "c9754fee",
   "metadata": {},
   "outputs": [],
   "source": [
    "pdf.line(50,50,100,100)"
   ]
  },
  {
   "cell_type": "code",
   "execution_count": 27,
   "id": "5dfaf59f",
   "metadata": {},
   "outputs": [],
   "source": [
    "pdf.dashed_line(40,40,110,110, dash_length= 5, space_length= 4)"
   ]
  },
  {
   "cell_type": "code",
   "execution_count": 28,
   "id": "41681965",
   "metadata": {},
   "outputs": [],
   "source": [
    "pdf.add_page()"
   ]
  },
  {
   "cell_type": "code",
   "execution_count": 29,
   "id": "62297fb2",
   "metadata": {},
   "outputs": [],
   "source": [
    "pdf.image(\"frog.jpg\", w= 50, x = 50, y = 100)"
   ]
  },
  {
   "cell_type": "code",
   "execution_count": 30,
   "id": "96e6e215",
   "metadata": {},
   "outputs": [
    {
     "data": {
      "text/plain": [
       "''"
      ]
     },
     "execution_count": 30,
     "metadata": {},
     "output_type": "execute_result"
    }
   ],
   "source": [
    "pdf.output(\"Tutorial.pdf\")"
   ]
  }
 ],
 "metadata": {
  "kernelspec": {
   "display_name": "Python 3 (ipykernel)",
   "language": "python",
   "name": "python3"
  },
  "language_info": {
   "codemirror_mode": {
    "name": "ipython",
    "version": 3
   },
   "file_extension": ".py",
   "mimetype": "text/x-python",
   "name": "python",
   "nbconvert_exporter": "python",
   "pygments_lexer": "ipython3",
   "version": "3.11.2"
  }
 },
 "nbformat": 4,
 "nbformat_minor": 5
}
